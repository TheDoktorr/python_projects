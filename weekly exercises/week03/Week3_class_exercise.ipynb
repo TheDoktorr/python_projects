{
 "cells": [
  {
   "cell_type": "markdown",
   "id": "personalized-illness",
   "metadata": {},
   "source": [
    "# Week 3"
   ]
  },
  {
   "cell_type": "markdown",
   "id": "yellow-machinery",
   "metadata": {},
   "source": [
    "Let's define a class called `Vector`. The class will contain:\n",
    "<br>\n",
    "- the `__init__` method to set the initial state of the object;\n",
    "<br>\n",
    "- the `__str__` method to display an instance of the class;\n",
    "<br>\n",
    "- an `add` method, which takes a second vector as an argument and sums the two vectors;\n",
    "<br>\n",
    "- a `norm` method that computes the vector norm."
   ]
  },
  {
   "cell_type": "code",
   "execution_count": null,
   "id": "sized-lightning",
   "metadata": {},
   "outputs": [],
   "source": [
    "import math\n",
    "\n",
    "\n",
    "class Vector:\n",
    "    \"\"\"Class of Cartesian 3D vectors.\"\"\"\n",
    "    \n",
    "    def __init__(self,x=0.0,y=0.0,z=0.0):\n",
    "        \"\"\"Initialise a vector with Cartesian coordinates (x,y,z).  Null vector by default.\"\"\"\n",
    "        self.x=x ; self.y=y ; self.z=z\n",
    "\n",
    "    def __str__(self):\n",
    "        \"\"\"The string produced if vector self is converted to a string.\"\"\"\n",
    "        return f\"({self.x}, {self.y}, {self.z})\"\n",
    "    \n",
    "    def add(self,other):\n",
    "        \"\"\"Sum vector self and vector other, returning the sum as a vector.\"\"\"\n",
    "        x=self.x+other.x\n",
    "        y=self.y+other.y\n",
    "        z=self.z+other.z\n",
    "        return Vector(x,y,z)\n",
    "    \n",
    "    def norm(self):\n",
    "        \"\"\"Compute the norm of a vector.\"\"\"\n",
    "        return math.sqrt(self.x**2+self.y**2+self.z**2)"
   ]
  },
  {
   "cell_type": "markdown",
   "id": "equipped-stephen",
   "metadata": {},
   "source": [
    "Now let's initiate two instances of the class `Vector`: `v1` and `v2`. Let's display `v1` and `v2`, then compute their norm and their sum using the methods defined in the class. "
   ]
  },
  {
   "cell_type": "code",
   "execution_count": null,
   "id": "sound-highland",
   "metadata": {},
   "outputs": [],
   "source": [
    "v1=Vector(0.2,-2.0,0.8)\n",
    "v2=Vector(0.2,0.2,0.2)\n",
    "print(f\"Vector v1 is {str(v1)}.\")\n",
    "print(f\"Vector v2 is {str(v2)}.\")\n",
    "v1norm=v1.norm()\n",
    "v2norm=v2.norm()\n",
    "v3=v1.add(v2)\n",
    "print(f\"The norm of v1 is {v1norm:.5g}\")\n",
    "print(f\"The norm of v2 is {v2norm:.5g}\")\n",
    "print(v3)\n",
    "print(f\"The sum of v1 and v2 is {str(v3)}.\")"
   ]
  },
  {
   "cell_type": "markdown",
   "id": "scenic-miller",
   "metadata": {},
   "source": [
    "Add methods `scalar` and `cross` to the `Vector` class to compute the scalar and vector products between two instances of the class. \n",
    "\n",
    "Then, in the main program call these methods on `v1` and `v2` and print the results."
   ]
  },
  {
   "cell_type": "markdown",
   "id": "bearing-embassy",
   "metadata": {},
   "source": [
    "Now substitute the method `add` in a way to override the operator `+`."
   ]
  },
  {
   "cell_type": "markdown",
   "id": "clean-shaft",
   "metadata": {},
   "source": [
    "Let's define a class defining a `Square` object. The class will contain:\n",
    "<br>\n",
    "- the `__init__` method, which will set the coordinates of the 4 corners of the square;\n",
    "<br>\n",
    "- the `is_a_square` method, which will check whether the points define a valid square."
   ]
  },
  {
   "cell_type": "code",
   "execution_count": null,
   "id": "square-surface",
   "metadata": {},
   "outputs": [],
   "source": [
    "import math\n",
    "\n",
    "class Square:\n",
    "    \"\"\"Class of squares.\n",
    "    \n",
    "    Parameters:\n",
    "    -----------\n",
    "    corners: list\n",
    "         list containing four pairs of coordinates defining the vertices of the square.\n",
    "    \"\"\"\n",
    "    \n",
    "    def __init__(self,corners):\n",
    "        \n",
    "        if not isinstance(corners,list):\n",
    "            raise TypeError(\"You need to pass a list containing four lists.\")\n",
    "        if len(corners)!=4:\n",
    "            raise ValueError(\"The list must contain the coordinates of 4 corners.\")\n",
    "        for p in corners:\n",
    "            if len(p)!=2:\n",
    "                raise ValueError(\"Each coordinate must be given by two numbers.\")\n",
    "\n",
    "        # Copy the vertices into a belonging to the square.        \n",
    "        self.vertices=list(corners) # Using \"list\" here to make a deep copy.\n",
    "        \n",
    "        if not self.is_a_square():\n",
    "            raise ValueError(\"Your list does not define a square.\")\n",
    "        \n",
    "        print(\"Your vertices define a square.\")\n",
    "        \n",
    "    def is_a_square(self):\n",
    "        \"\"\"Evaluate whether the vertices define a square.\"\"\"\n",
    "\n",
    "        # Check that all four sides have the same length.\n",
    "        # As soon as we find a pair of sides with different lengths, we know this isn't a square.\n",
    "        sidelength=Square.distance(self.vertices[0],self.vertices[1])\n",
    "        for i in range(1,4):\n",
    "            if abs(Square.distance(self.vertices[i],self.vertices[(i+1)%4])\n",
    "                    -sidelength)>1.e-12*abs(sidelength):\n",
    "                return False\n",
    "        \n",
    "        # Now we just need to check that two neighbouring sides are orthogonal.\n",
    "        return Square.orthogonal(self.vertices[0],self.vertices[1],self.vertices[2])\n",
    "                         \n",
    "    @staticmethod\n",
    "    def distance(p1,p2):\n",
    "        \"\"\"Compute the distance between two points p1 and p2.\"\"\"\n",
    "        return math.sqrt(sum((x1-x2)**2 for x1,x2 in zip(p1,p2)))\n",
    "\n",
    "    @staticmethod\n",
    "    def dot(v1,v2):\n",
    "        \"\"\"Return the dot product of vectors v1 and v2.\"\"\"\n",
    "        return sum(x1*x2 for x1,x2 in zip(v1,v2))\n",
    "\n",
    "    @staticmethod\n",
    "    def orthogonal(p1,p2,p3):        \n",
    "        \"\"\"Return True if and only if vector p1-p2 is orthogonal to vector p3-p2.\"\"\"\n",
    "        v1=[x1-x2 for x1,x2 in zip(p1,p2)] ; v2=[x3-x2 for x3,x2 in zip(p3,p2)]\n",
    "        # Test whether |v1.v2|~=0.\n",
    "        return abs(Square.dot(v1,v2))<1.e-14*math.sqrt(Square.dot(v1,v1)*Square.dot(v2,v2))"
   ]
  },
  {
   "cell_type": "markdown",
   "id": "comfortable-library",
   "metadata": {},
   "source": [
    "Now let's define an instance of the class `Square`."
   ]
  },
  {
   "cell_type": "code",
   "execution_count": null,
   "id": "important-douglas",
   "metadata": {},
   "outputs": [],
   "source": [
    "s1=Square([[2,2],[2,-2],[-2,-2],[-2,2]])"
   ]
  },
  {
   "cell_type": "markdown",
   "id": "computational-algeria",
   "metadata": {},
   "source": [
    "Add methods `Perimeter` and `Area` to the class to compute the perimeter and area of a square."
   ]
  }
 ],
 "metadata": {
  "kernelspec": {
   "display_name": "Python 3 (ipykernel)",
   "language": "python",
   "name": "python3"
  },
  "language_info": {
   "codemirror_mode": {
    "name": "ipython",
    "version": 3
   },
   "file_extension": ".py",
   "mimetype": "text/x-python",
   "name": "python",
   "nbconvert_exporter": "python",
   "pygments_lexer": "ipython3",
   "version": "3.12.3"
  }
 },
 "nbformat": 4,
 "nbformat_minor": 5
}
